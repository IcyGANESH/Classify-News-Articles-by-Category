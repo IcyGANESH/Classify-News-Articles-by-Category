{
 "cells": [
  {
   "cell_type": "code",
   "execution_count": 75,
   "id": "1f406d6f-eeeb-4329-abe5-cb7ddfc6a227",
   "metadata": {},
   "outputs": [
    {
     "name": "stdout",
     "output_type": "stream",
     "text": [
      "   word_count  has_keywords  read_time  category\n",
      "0         142             0          3      tech\n",
      "1        1043             0          6  business\n",
      "2         442             1         12    sports\n",
      "3        1449             1         13      tech\n",
      "4        1937             1         10      tech\n",
      "              precision    recall  f1-score   support\n",
      "\n",
      "    business       0.20      0.20      0.20         5\n",
      "      sports       0.57      0.57      0.57         7\n",
      "        tech       0.38      0.38      0.38         8\n",
      "\n",
      "    accuracy                           0.40        20\n",
      "   macro avg       0.38      0.38      0.38        20\n",
      "weighted avg       0.40      0.40      0.40        20\n",
      "\n"
     ]
    }
   ],
   "source": [
    "import pandas as pd\n",
    "from sklearn.model_selection import train_test_split\n",
    "from sklearn.ensemble import RandomForestClassifier\n",
    "from sklearn.preprocessing import LabelEncoder\n",
    "from sklearn.metrics import classification_report\n",
    "\n",
    "# Load data\n",
    "df = pd.read_csv('news_articles.csv')\n",
    "\n",
    "# Preview the data\n",
    "print(df.head())\n",
    "\n",
    "# Check for missing values\n",
    "df = df.dropna(subset=['word_count', 'has_keywords', 'read_time', 'category'])\n",
    "\n",
    "# Encode categorical target\n",
    "label_encoder = LabelEncoder()\n",
    "df['category_encoded'] = label_encoder.fit_transform(df['category'])\n",
    "\n",
    "# Feature columns\n",
    "features = ['word_count', 'has_keywords', 'read_time']\n",
    "X = df[features]\n",
    "y = df['category_encoded']\n",
    "\n",
    "# Split the data\n",
    "X_train, X_test, y_train, y_test = train_test_split(\n",
    "    X, y, test_size=0.2, random_state=42\n",
    ")\n",
    "\n",
    "# Train a Random Forest classifier\n",
    "clf = RandomForestClassifier(n_estimators=100, random_state=42)\n",
    "clf.fit(X_train, y_train)\n",
    "\n",
    "# Predict and evaluate\n",
    "y_pred = clf.predict(X_test)\n",
    "print(classification_report(y_test, y_pred, target_names=label_encoder.classes_))\n"
   ]
  }
 ],
 "metadata": {
  "kernelspec": {
   "display_name": "Python 3 (ipykernel)",
   "language": "python",
   "name": "python3"
  },
  "language_info": {
   "codemirror_mode": {
    "name": "ipython",
    "version": 3
   },
   "file_extension": ".py",
   "mimetype": "text/x-python",
   "name": "python",
   "nbconvert_exporter": "python",
   "pygments_lexer": "ipython3",
   "version": "3.12.7"
  }
 },
 "nbformat": 4,
 "nbformat_minor": 5
}
